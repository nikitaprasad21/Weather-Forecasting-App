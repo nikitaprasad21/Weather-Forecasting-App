{
 "cells": [
  {
   "cell_type": "markdown",
   "id": "a6ec38f0",
   "metadata": {},
   "source": [
    "## Pipeline for Weather Forecasting App - Upgraded 2.0"
   ]
  },
  {
   "cell_type": "markdown",
   "id": "30382088",
   "metadata": {},
   "source": [
    "Unveil the Secrets of the Skies: Your Ultimate Weather Adventure Awaits! \n",
    "\n",
    "Explore atmospheric wonders, decode weather conditions, track pressure and wind speed, and unlock the hidden patterns of nature with our captivating weather app!"
   ]
  },
  {
   "cell_type": "markdown",
   "id": "657cc491",
   "metadata": {},
   "source": [
    "### Importing Modules"
   ]
  },
  {
   "cell_type": "code",
   "execution_count": 1,
   "id": "8da1ba5a",
   "metadata": {},
   "outputs": [],
   "source": [
    "# Import required modules\n",
    "import tkinter as tk\n",
    "import requests\n",
    "from tkinter import messagebox\n",
    "from PIL import Image, ImageTk\n",
    "from configparser import ConfigParser\n",
    "import ttkbootstrap"
   ]
  },
  {
   "cell_type": "markdown",
   "id": "4882d6d0",
   "metadata": {},
   "source": [
    "### Pipeline Function"
   ]
  },
  {
   "cell_type": "code",
   "execution_count": 2,
   "id": "991004f1",
   "metadata": {},
   "outputs": [],
   "source": [
    "# Extract key from the\n",
    "# configuration file\n",
    "api_url = \"https://api.openweathermap.org/data/2.5/weather?q={}&appid={}\"\n",
    "api_file = \"weather.key\"\n",
    "config = ConfigParser()\n",
    "config.read(api_file)\n",
    "api_key = config['api_key']['key']\n",
    "\n",
    "# Function to get weather details from OpenWeatherMap API\n",
    "def getweather(city):\n",
    "    res = requests.get(api_url.format(city, api_key))\n",
    "    \n",
    "    if res:\n",
    "        json = res.json()\n",
    "        city = json['name']\n",
    "        country_name = json['sys']['country']\n",
    "        icon_id = json['weather'][0]['icon']\n",
    "        temp_kelvin = json['main']['temp']\n",
    "        temp_celsius = temp_kelvin - 273.15\n",
    "        temp_fahrenheit = (temp_kelvin) * 1.8 + 32\n",
    "        weather_description = json['weather'][0]['main']\n",
    "        wind_description = json['wind']['speed']\n",
    "        pressure_description = json['main']['pressure']\n",
    "        humidity_description = json['main']['humidity']\n",
    "        \n",
    "        # Get the icon URL and return all the weather information\n",
    "        icon_url = f\"http://openweathermap.org/img/wn/{icon_id}@2x.png\"\n",
    "        \n",
    "        # Calling final list\n",
    "        return (icon_url, temp_celsius, temp_fahrenheit, weather_description, wind_description, pressure_description,\n",
    "                humidity_description, city, country_name)\n",
    "    \n",
    "    else:\n",
    "        print(\"Error - No Forecast Found, Try Again!!!\")\n",
    "        \n",
    "# Function to Search weassther for a city or state\n",
    "def search_forecast():\n",
    "    city = city_enter.get()\n",
    "    weather = getweather(city)\n",
    "    \n",
    "    if weather is None:\n",
    "        return\n",
    "    # If the city is found, unpack the weather information\n",
    "    icon_url, temp_celsius, temp_fahrenheit, weather_description, wind_description, pressure_description, humidity_description,  city, country_name = weather\n",
    "        \n",
    "    loc_label.configure(text=f\"{city}, {country_name}\")\n",
    "\n",
    "    # Get the weather icon image from the URL and update the icon label\n",
    "    image = Image.open(requests.get(icon_url, stream=True).raw)\n",
    "    icon = ImageTk.PhotoImage(image)\n",
    "    icon_label.configure(image=icon)\n",
    "    icon_label.image = icon\n",
    "\n",
    "    # Update the temperature and description labels\n",
    "    temp_label.configure(text=f\"Temperature: {temp_celsius:.2f} °C, {temp_fahrenheit:.2f} K\")\n",
    "    weather_cond.configure(text=f\"Description: {weather_description}\")\n",
    "    wind_label.configure(text=f\"Wind Speed: {wind_description} Km/H\")\n",
    "    pressure_label.configure(text=f\"Pressure: {pressure_description} mb\")\n",
    "    humidity_cond.configure(text=f\"Humidity: {humidity_description} %\")"
   ]
  },
  {
   "cell_type": "markdown",
   "id": "adfd0bd3",
   "metadata": {},
   "source": [
    "### Driver Code"
   ]
  },
  {
   "cell_type": "code",
   "execution_count": null,
   "id": "47f67d4a",
   "metadata": {},
   "outputs": [],
   "source": [
    "# create object\n",
    "app = ttkbootstrap.Window(themename = \"morph\")\n",
    "\n",
    "# add title\n",
    "app.title(\"Today's Forecast\")\n",
    "\n",
    "# adjust window size\n",
    "app.geometry(\"900x650\")\n",
    "\n",
    "# Entry box:  add labels, buttons and text\n",
    "city_enter = ttkbootstrap.Entry(app, font=(\"Time New Roman\", 15, \"italic\"))\n",
    "city_enter.pack(pady=25) # pady: the number of pixels surrounding the widget to create a padding between other widgets,\n",
    "                           # for horizontal or vertical padding.\n",
    "\n",
    "# Search button\n",
    "search_button = ttkbootstrap.Button(app, text = \"Search The Forecast???\", width=25,  \n",
    "                        command = search_forecast, bootstyle=\"warning\")\n",
    "search_button.pack(pady = 10)\n",
    "\n",
    "# Location addition\n",
    "loc_label = tk.Label(app, font=(\"Calibre\", 30, 'bold'))\n",
    "loc_label.pack(pady=15)\n",
    "\n",
    "# Weather Icon\n",
    "icon_label = tk.Label(app)\n",
    "icon_label.pack()\n",
    "\n",
    "# Temperature addition\n",
    "temp_label = tk.Label(app, font=(\"Calibre\", 25, 'bold'))\n",
    "temp_label.pack()\n",
    "\n",
    "# Weather Condition\n",
    "weather_cond = tk.Label(app, font=(\"Calibre\", 25, 'bold'))\n",
    "weather_cond.pack(pady=10)\n",
    "\n",
    "# Wind addition\n",
    "wind_label = tk.Label(app, font=(\"Calibre\", 18, 'bold'))\n",
    "wind_label.pack()\n",
    "\n",
    "# Pressure addition\n",
    "pressure_label = tk.Label(app, font=(\"Calibre\", 18, 'bold'))\n",
    "pressure_label.pack()\n",
    "\n",
    "# Humidity Condition\n",
    "humidity_cond = tk.Label(app, font=(\"Calibre\", 18, 'bold'))\n",
    "humidity_cond.pack()\n",
    "\n",
    "app.mainloop()"
   ]
  },
  {
   "cell_type": "code",
   "execution_count": null,
   "id": "67a83bdc",
   "metadata": {},
   "outputs": [],
   "source": []
  }
 ],
 "metadata": {
  "kernelspec": {
   "display_name": "Python 3 (ipykernel)",
   "language": "python",
   "name": "python3"
  },
  "language_info": {
   "codemirror_mode": {
    "name": "ipython",
    "version": 3
   },
   "file_extension": ".py",
   "mimetype": "text/x-python",
   "name": "python",
   "nbconvert_exporter": "python",
   "pygments_lexer": "ipython3",
   "version": "3.9.13"
  }
 },
 "nbformat": 4,
 "nbformat_minor": 5
}
