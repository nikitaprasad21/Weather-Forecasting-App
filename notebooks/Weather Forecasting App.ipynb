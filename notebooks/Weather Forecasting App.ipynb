{
 "cells": [
  {
   "cell_type": "markdown",
   "id": "84efaa60",
   "metadata": {},
   "source": [
    "# Pipeline for Weather Forecasting App"
   ]
  },
  {
   "cell_type": "code",
   "execution_count": 1,
   "id": "c7f27101",
   "metadata": {},
   "outputs": [],
   "source": [
    "# import required modules\n",
    "from configparser import ConfigParser\n",
    "from tkinter import *\n",
    "from tkinter import messagebox"
   ]
  },
  {
   "cell_type": "code",
   "execution_count": 2,
   "id": "85c11672",
   "metadata": {},
   "outputs": [],
   "source": [
    "import requests"
   ]
  },
  {
   "cell_type": "code",
   "execution_count": null,
   "id": "30966804",
   "metadata": {},
   "outputs": [],
   "source": [
    "# extract key from the\n",
    "# configuration file\n",
    "api_url = \"https://api.openweathermap.org/data/2.5/weather?q={}&appid={}\"\n",
    "api_file = \"weather.key\"\n",
    "config = ConfigParser()\n",
    "config.read(api_file)\n",
    "api_key = config['api_key']['key']\n",
    "\n",
    "# Function to get weather details\n",
    "def getweather(city):\n",
    "    res = requests.get(api_url.format(city, api_key))\n",
    "    \n",
    "    if res:\n",
    "        json = res.json()\n",
    "        city = json['name']\n",
    "        country_name = json['sys']['country']\n",
    "        temp_kelvin = json['main']['temp']\n",
    "        temp_celsius = temp_kelvin - 273.15\n",
    "        temp_fahrenheit = (temp_kelvin) * 1.8 + 32\n",
    "        weather_description = json['weather'][0]['main']\n",
    "        \n",
    "        # Calling final list\n",
    "        final = [city, country_name, temp_celsius, temp_fahrenheit, weather_description]\n",
    "        return final\n",
    "    \n",
    "    else:\n",
    "        print(\"Sorry - No Forecast Found, Try Again!!!\")\n",
    "\n",
    "        \n",
    "# Function to Search city\n",
    "def search_forecast():\n",
    "    city = city_search.get()\n",
    "    weather = getweather(city)\n",
    "\n",
    "    if weather:\n",
    "        loc_label['text'] = '{}, {}'.format(weather[0], weather[1])\n",
    "        temp_label['text'] = '{:.2f} °C, {:.2f} K'.format(weather[2], weather[3])\n",
    "        weather_cond['text'] = weather[4]\n",
    "\n",
    "    else:\n",
    "        messagebox.showerror('Error', \"Cannot find {}\".format(city))\n",
    "\n",
    "\n",
    "# Driver Code\n",
    "# create object\n",
    "app = Tk()\n",
    "\n",
    "# add title\n",
    "app.title(\"Today's Forecast\")\n",
    "\n",
    "# background colour\n",
    "app.config(background = \"Black\")\n",
    "\n",
    "# adjust window size\n",
    "app.geometry(\"700x400\")\n",
    "\n",
    "# Entry box:  add labels, buttons and text\n",
    "city_search = StringVar()\n",
    "city_enter = Entry(app, textvariable = city_search, bg = \"orange\", fg = \"white\", font = (\"Calibre\", 30, \"bold\"))\n",
    "city_enter.pack()\n",
    "\n",
    "# Search button\n",
    "search_button = Button(app, text = \"Search The Forecast???\", width=20, bg = \"white\", fg = \"red\", \n",
    "                       font = (\"Calibre\", 15, \"italic\"), command = search_forecast)\n",
    "search_button.pack()\n",
    "\n",
    "# Location addition\n",
    "loc_label = Label(app, text = \"\", bg = \"orange\", fg = \"black\", font=(\"Calibre\", 25, 'bold'))\n",
    "loc_label.pack()\n",
    "\n",
    "# Temperature addition\n",
    "temp_label = Label(app, text=\"\", bg = \"orange\", fg = \"black\", font=(\"Calibre\", 25, 'bold'))\n",
    "temp_label.pack()\n",
    "\n",
    "# Weather Condition\n",
    "weather_cond = Label(app, text=\"\", bg = \"orange\", fg = \"black\", font=(\"Calibre\", 25, 'bold'))\n",
    "weather_cond.pack()\n",
    "\n",
    "app.mainloop()"
   ]
  },
  {
   "cell_type": "code",
   "execution_count": null,
   "id": "f4ea153a",
   "metadata": {},
   "outputs": [],
   "source": []
  }
 ],
 "metadata": {
  "kernelspec": {
   "display_name": "Python 3 (ipykernel)",
   "language": "python",
   "name": "python3"
  },
  "language_info": {
   "codemirror_mode": {
    "name": "ipython",
    "version": 3
   },
   "file_extension": ".py",
   "mimetype": "text/x-python",
   "name": "python",
   "nbconvert_exporter": "python",
   "pygments_lexer": "ipython3",
   "version": "3.9.13"
  }
 },
 "nbformat": 4,
 "nbformat_minor": 5
}
